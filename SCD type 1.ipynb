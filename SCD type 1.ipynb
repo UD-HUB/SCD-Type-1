{
 "cells": [
  {
   "cell_type": "code",
   "execution_count": 1,
   "id": "428379f5",
   "metadata": {},
   "outputs": [],
   "source": [
    "#pip install mysql-connector-python sqlalchemy pandas\n",
    "import pandas as pd\n",
    "import sqlalchemy as sal\n",
    "\n",
    "username = 'root'\n",
    "server_name = 'localhost'\n",
    "port = '3306'\n",
    "database_name = 'superstore'\n",
    "\n",
    "engine = sal.create_engine(f'mysql+mysqlconnector://{username}@{server_name}:{port}/{database_name}')\n",
    "conn=engine.connect()"
   ]
  },
  {
   "cell_type": "markdown",
   "id": "d3dbdb69",
   "metadata": {},
   "source": [
    "**ETL:** \\\n",
    "Extract \\\n",
    "Transform (filteration, data cleaning, joining)\\\n",
    "Load"
   ]
  },
  {
   "cell_type": "code",
   "execution_count": 2,
   "id": "1b3a94f5",
   "metadata": {},
   "outputs": [],
   "source": [
    "def extract():\n",
    "    df_orders=pd.read_csv('orders.txt')\n",
    "    df_returns=pd.read_csv('returns.txt')\n",
    "    return df_orders, df_returns\n",
    "def transform(df_orders,df_returns):\n",
    "    df= pd.merge(df_orders,df_returns,how='inner',left_on = 'order_id',right_on = 'Order Id')\n",
    "    return df\n",
    "def load(df):\n",
    "    df.to_sql('orders_final',con=conn, index=False,if_exists='replace') #or if_exists='append'\n",
    "    conn.commit()"
   ]
  },
  {
   "cell_type": "code",
   "execution_count": 3,
   "id": "26384d98",
   "metadata": {},
   "outputs": [],
   "source": [
    "#extract\n",
    "df_orders,df_returns = extract()\n",
    "#transform\n",
    "df=transform(df_orders,df_returns)\n",
    "#load\n",
    "load(df)"
   ]
  },
  {
   "cell_type": "code",
   "execution_count": 4,
   "id": "6b34b323",
   "metadata": {},
   "outputs": [
    {
     "name": "stdout",
     "output_type": "stream",
     "text": [
      "<class 'sqlalchemy.engine.base.Connection'>\n"
     ]
    }
   ],
   "source": [
    "print(type(conn))"
   ]
  },
  {
   "cell_type": "code",
   "execution_count": 5,
   "id": "bc3b7171",
   "metadata": {},
   "outputs": [
    {
     "name": "stdout",
     "output_type": "stream",
     "text": [
      "2.0.32\n"
     ]
    }
   ],
   "source": [
    "print(sal.__version__)"
   ]
  },
  {
   "cell_type": "code",
   "execution_count": 6,
   "id": "31f0b880",
   "metadata": {},
   "outputs": [
    {
     "data": {
      "text/html": [
       "<div>\n",
       "<style scoped>\n",
       "    .dataframe tbody tr th:only-of-type {\n",
       "        vertical-align: middle;\n",
       "    }\n",
       "\n",
       "    .dataframe tbody tr th {\n",
       "        vertical-align: top;\n",
       "    }\n",
       "\n",
       "    .dataframe thead th {\n",
       "        text-align: right;\n",
       "    }\n",
       "</style>\n",
       "<table border=\"1\" class=\"dataframe\">\n",
       "  <thead>\n",
       "    <tr style=\"text-align: right;\">\n",
       "      <th></th>\n",
       "      <th>order_id</th>\n",
       "      <th>order_date</th>\n",
       "      <th>customer_name</th>\n",
       "      <th>city</th>\n",
       "      <th>category</th>\n",
       "      <th>product_id</th>\n",
       "      <th>sales</th>\n",
       "      <th>profit</th>\n",
       "      <th>Order Id</th>\n",
       "      <th>Return Reason</th>\n",
       "    </tr>\n",
       "  </thead>\n",
       "  <tbody>\n",
       "    <tr>\n",
       "      <th>0</th>\n",
       "      <td>CA-2018-100762</td>\n",
       "      <td>2018-11-24</td>\n",
       "      <td>Nat Gilpin</td>\n",
       "      <td>Jackson</td>\n",
       "      <td>Office Supplies</td>\n",
       "      <td>OFF-AR-10000380</td>\n",
       "      <td>151.920</td>\n",
       "      <td>45.5760</td>\n",
       "      <td>CA-2018-100762</td>\n",
       "      <td>Bad Quality</td>\n",
       "    </tr>\n",
       "    <tr>\n",
       "      <th>1</th>\n",
       "      <td>CA-2018-100867</td>\n",
       "      <td>2018-10-19</td>\n",
       "      <td>Eugene Hildebrand</td>\n",
       "      <td>Lakewood</td>\n",
       "      <td>Technology</td>\n",
       "      <td>TEC-PH-10004922</td>\n",
       "      <td>321.552</td>\n",
       "      <td>20.0970</td>\n",
       "      <td>CA-2018-100867</td>\n",
       "      <td>Bad Quality</td>\n",
       "    </tr>\n",
       "    <tr>\n",
       "      <th>2</th>\n",
       "      <td>CA-2018-102652</td>\n",
       "      <td>2018-04-06</td>\n",
       "      <td>Andy Yotov</td>\n",
       "      <td>Los Angeles</td>\n",
       "      <td>Furniture</td>\n",
       "      <td>FUR-FU-10000747</td>\n",
       "      <td>91.960</td>\n",
       "      <td>15.6332</td>\n",
       "      <td>CA-2018-102652</td>\n",
       "      <td>Bad Quality</td>\n",
       "    </tr>\n",
       "    <tr>\n",
       "      <th>3</th>\n",
       "      <td>CA-2018-103373</td>\n",
       "      <td>2018-05-18</td>\n",
       "      <td>Bruce Stewart</td>\n",
       "      <td>Cleveland</td>\n",
       "      <td>Technology</td>\n",
       "      <td>TEC-PH-10002885</td>\n",
       "      <td>779.796</td>\n",
       "      <td>-168.9558</td>\n",
       "      <td>CA-2018-103373</td>\n",
       "      <td>Bad Quality</td>\n",
       "    </tr>\n",
       "    <tr>\n",
       "      <th>4</th>\n",
       "      <td>CA-2018-103744</td>\n",
       "      <td>2018-02-23</td>\n",
       "      <td>Michael Grace</td>\n",
       "      <td>El Paso</td>\n",
       "      <td>Office Supplies</td>\n",
       "      <td>OFF-BI-10000320</td>\n",
       "      <td>4.428</td>\n",
       "      <td>-6.8634</td>\n",
       "      <td>CA-2018-103744</td>\n",
       "      <td>Bad Quality</td>\n",
       "    </tr>\n",
       "  </tbody>\n",
       "</table>\n",
       "</div>"
      ],
      "text/plain": [
       "         order_id  order_date      customer_name         city  \\\n",
       "0  CA-2018-100762  2018-11-24         Nat Gilpin      Jackson   \n",
       "1  CA-2018-100867  2018-10-19  Eugene Hildebrand     Lakewood   \n",
       "2  CA-2018-102652  2018-04-06         Andy Yotov  Los Angeles   \n",
       "3  CA-2018-103373  2018-05-18      Bruce Stewart    Cleveland   \n",
       "4  CA-2018-103744  2018-02-23      Michael Grace      El Paso   \n",
       "\n",
       "          category       product_id    sales    profit        Order Id  \\\n",
       "0  Office Supplies  OFF-AR-10000380  151.920   45.5760  CA-2018-100762   \n",
       "1       Technology  TEC-PH-10004922  321.552   20.0970  CA-2018-100867   \n",
       "2        Furniture  FUR-FU-10000747   91.960   15.6332  CA-2018-102652   \n",
       "3       Technology  TEC-PH-10002885  779.796 -168.9558  CA-2018-103373   \n",
       "4  Office Supplies  OFF-BI-10000320    4.428   -6.8634  CA-2018-103744   \n",
       "\n",
       "  Return Reason  \n",
       "0   Bad Quality  \n",
       "1   Bad Quality  \n",
       "2   Bad Quality  \n",
       "3   Bad Quality  \n",
       "4   Bad Quality  "
      ]
     },
     "execution_count": 6,
     "metadata": {},
     "output_type": "execute_result"
    }
   ],
   "source": [
    "from sqlalchemy import text\n",
    "\n",
    "df_sql = pd.read_sql_query(text('select * from orders_final'), conn)\n",
    "df_sql.head()"
   ]
  },
  {
   "cell_type": "markdown",
   "id": "3b8fbddf",
   "metadata": {},
   "source": [
    "**SCD: Slowly Changing Dimensions**\\\n",
    "\n",
    "***SCD1= latest information only***\\\n",
    "\n",
    "***Dimension table***\\\n",
    "Product Dimensions or attributes\\\n",
    "    Product_id, Product_name, Price\n",
    "\n",
    "Customer Dimensions or attributes\\\n",
    "    Customer_id, Customer_name, Customer_age\n",
    "\n",
    "***Fact or Transaction table***\\\n",
    "Customer_id, Product_id, Sales\n",
    "\n",
    "\n",
    "***SCD2= historical data***\\\n",
    "Product Dimensions or attributes\\\n",
    "    Product_key,Product_id, Product_name, Price(historical price), effective_date(inserted on), expire_date(till high date eg: 31-12-9999), active_flag(0\\1 for latest)\\\n",
    "Problem: no primary key - product_id repeating. so we create a 'surrogate key' i.e product_key - 1,2,3,... by creating a sequencer"
   ]
  },
  {
   "cell_type": "markdown",
   "id": "38c9c33d",
   "metadata": {},
   "source": [
    "# SCD1"
   ]
  },
  {
   "cell_type": "code",
   "execution_count": 8,
   "id": "3648f4ee",
   "metadata": {},
   "outputs": [],
   "source": [
    "#drop table\n",
    "query = sal.text(\"drop table products\")\n",
    "p = conn.execute(query)\n",
    "conn.commit()"
   ]
  },
  {
   "cell_type": "code",
   "execution_count": 9,
   "id": "cc2bd809",
   "metadata": {},
   "outputs": [],
   "source": [
    "products = {'product_id':[1,2,3],'product_name':['hp laptop','iphone 11','iphone 12'],'price':[50000,70000,80000]}\n",
    "products_db= pd.DataFrame(products)\n",
    "products_db.to_csv('products.txt', index=False)"
   ]
  },
  {
   "cell_type": "code",
   "execution_count": 10,
   "id": "88a16ef3",
   "metadata": {},
   "outputs": [],
   "source": [
    "#load:\n",
    "dfp=pd.DataFrame({'product_id':[],'product_name':[],'price':[]})\n",
    "dfp.to_sql('products',con=conn, index=False,if_exists='replace') #or if_exists='append'\n",
    "conn.commit()"
   ]
  },
  {
   "cell_type": "code",
   "execution_count": 13,
   "id": "7b974e84",
   "metadata": {},
   "outputs": [],
   "source": [
    "def extract():\n",
    "    df_products=pd.read_csv('products.txt')\n",
    "    df_products_db=pd.read_sql_query(text('select * from products'),conn)\n",
    "    return df_products, df_products_db\n",
    "def transform(df_products, df_products_db):\n",
    "    df_merge = pd.merge(df_products,df_products_db, how='left',on='product_id')\n",
    "    #which records are to be inserted\n",
    "    df_insert =df_merge[df_merge['product_name_y'].isna()] \n",
    "    df_insert_final= df_insert.iloc[:, 0:3]\n",
    "    df_insert_final.columns=df_products_db.columns\n",
    "    df_update = df_merge[df_merge['product_name_y'].notna()]\n",
    "    return df_insert_final,df_update\n",
    "def load(df_insert_final):\n",
    "    df_insert_final.to_sql('products',con=conn, index=False,if_exists='append') #1st we do replace\n",
    "    conn.commit()"
   ]
  },
  {
   "cell_type": "code",
   "execution_count": 14,
   "id": "5eddfa0e",
   "metadata": {},
   "outputs": [],
   "source": [
    "df_products, df_products_db = extract()\n",
    "df_insert_final,df_update = transform(df_products, df_products_db)\n",
    "load(df_insert_final)"
   ]
  },
  {
   "cell_type": "code",
   "execution_count": 15,
   "id": "99e7259d",
   "metadata": {},
   "outputs": [
    {
     "name": "stdout",
     "output_type": "stream",
     "text": [
      "   product_id product_name  price\n",
      "0           1    hp laptop  50000\n",
      "1           2    iphone 11  70000\n",
      "2           3    iphone 12  80000\n",
      "*******************\n",
      "Empty DataFrame\n",
      "Columns: [product_id, product_name_x, price_x, product_name_y, price_y]\n",
      "Index: []\n"
     ]
    }
   ],
   "source": [
    "print(df_insert_final)\n",
    "print('*******************')\n",
    "print(df_update)"
   ]
  },
  {
   "cell_type": "code",
   "execution_count": 16,
   "id": "be46d707",
   "metadata": {},
   "outputs": [
    {
     "name": "stdout",
     "output_type": "stream",
     "text": [
      "   product_id product_name_x  price_x product_name_y price_y\n",
      "0           1      hp laptop    50000            NaN     NaN\n",
      "1           2      iphone 11    70000            NaN     NaN\n",
      "2           3      iphone 12    80000            NaN     NaN\n",
      "*********\n",
      "   product_id product_name_x  price_x product_name_y price_y\n",
      "0           1      hp laptop    50000            NaN     NaN\n",
      "1           2      iphone 11    70000            NaN     NaN\n",
      "2           3      iphone 12    80000            NaN     NaN\n",
      "*********\n",
      "   product_id product_name_x  price_x\n",
      "0           1      hp laptop    50000\n",
      "1           2      iphone 11    70000\n",
      "2           3      iphone 12    80000\n",
      "*********\n",
      "   product_id product_name  price\n",
      "0           1    hp laptop  50000\n",
      "1           2    iphone 11  70000\n",
      "2           3    iphone 12  80000\n"
     ]
    }
   ],
   "source": [
    "df_merge = pd.merge(df_products,df_products_db, how='left',on='product_id')\n",
    "print(df_merge)\n",
    "print('*********')\n",
    "#which records are to be inserted\n",
    "df_insert =df_merge[df_merge['product_name_y'].isna()]\n",
    "print(df_insert)\n",
    "print('*********')\n",
    "\n",
    "df_insert_final= df_insert.iloc[:, 0:3]\n",
    "print(df_insert_final)\n",
    "print('*********')\n",
    "\n",
    "df_insert_final.columns=df_products_db.columns\n",
    "print(df_insert_final)"
   ]
  },
  {
   "cell_type": "code",
   "execution_count": 17,
   "id": "e4619fb5",
   "metadata": {},
   "outputs": [],
   "source": [
    "#changing hp laptop price and adding one more item\n",
    "products = {'product_id':[1,4],'product_name':['hp laptop','iphone 13'],'price':[55000,75000]}\n",
    "products_db= pd.DataFrame(products)\n",
    "products_db.to_csv('products.txt', index=False)"
   ]
  },
  {
   "cell_type": "code",
   "execution_count": 18,
   "id": "112cd3b5",
   "metadata": {},
   "outputs": [],
   "source": [
    "def extract():\n",
    "    df_products=pd.read_csv('products.txt')\n",
    "    df_products_db=pd.read_sql_query(text('select * from products'),conn)\n",
    "    return df_products, df_products_db\n",
    "def transform(df_products, df_products_db):\n",
    "    df_merge = pd.merge(df_products,df_products_db, how='left',on='product_id')\n",
    "    #which records are to be inserted\n",
    "    df_insert =df_merge[df_merge['product_name_y'].isna()] \n",
    "    df_insert_final= df_insert.iloc[:, 0:3]\n",
    "    df_insert_final.columns=df_products_db.columns\n",
    "    df_update = df_merge[df_merge['product_name_y'].notna()]\n",
    "    df_update_final = df_update.iloc[:,0:3]\n",
    "    df_update_final.columns=df_products_db.columns\n",
    "    return df_insert_final,df_update_final\n",
    "def load_staging(df_update_final):\n",
    "    df_update_final.to_sql('products_stg',con=conn, index=False,if_exists='replace')\n",
    "    conn.commit()\n",
    "def updates():\n",
    "    query=sal.text('UPDATE products JOIN products_stg ON products.product_id = products_stg.product_id SET products.price = products_stg.price')\n",
    "    p=conn.execute(query)\n",
    "    conn.commit()\n",
    "def inserts(df_insert_final):\n",
    "    df_insert_final.to_sql('products',con=conn, index=False,if_exists='append') #1st we do replace\n",
    "    conn.commit()"
   ]
  },
  {
   "cell_type": "code",
   "execution_count": 19,
   "id": "6b9e5c9d",
   "metadata": {},
   "outputs": [],
   "source": [
    "df_products, df_products_db = extract()\n",
    "df_insert_final,df_update_final= transform(df_products, df_products_db)\n",
    "load_staging(df_update_final)\n",
    "updates()\n",
    "inserts(df_insert_final)"
   ]
  },
  {
   "cell_type": "code",
   "execution_count": 20,
   "id": "8a3ef806",
   "metadata": {},
   "outputs": [
    {
     "data": {
      "text/html": [
       "<div>\n",
       "<style scoped>\n",
       "    .dataframe tbody tr th:only-of-type {\n",
       "        vertical-align: middle;\n",
       "    }\n",
       "\n",
       "    .dataframe tbody tr th {\n",
       "        vertical-align: top;\n",
       "    }\n",
       "\n",
       "    .dataframe thead th {\n",
       "        text-align: right;\n",
       "    }\n",
       "</style>\n",
       "<table border=\"1\" class=\"dataframe\">\n",
       "  <thead>\n",
       "    <tr style=\"text-align: right;\">\n",
       "      <th></th>\n",
       "      <th>product_id</th>\n",
       "      <th>product_name</th>\n",
       "      <th>price</th>\n",
       "    </tr>\n",
       "  </thead>\n",
       "  <tbody>\n",
       "    <tr>\n",
       "      <th>0</th>\n",
       "      <td>1</td>\n",
       "      <td>hp laptop</td>\n",
       "      <td>55000</td>\n",
       "    </tr>\n",
       "  </tbody>\n",
       "</table>\n",
       "</div>"
      ],
      "text/plain": [
       "   product_id product_name  price\n",
       "0           1    hp laptop  55000"
      ]
     },
     "execution_count": 20,
     "metadata": {},
     "output_type": "execute_result"
    }
   ],
   "source": [
    "df_update_final"
   ]
  },
  {
   "cell_type": "code",
   "execution_count": 21,
   "id": "11c721ea",
   "metadata": {},
   "outputs": [
    {
     "name": "stdout",
     "output_type": "stream",
     "text": [
      "   product_id product_name_x  price_x product_name_y price_y\n",
      "0           1      hp laptop    50000            NaN     NaN\n",
      "1           2      iphone 11    70000            NaN     NaN\n",
      "2           3      iphone 12    80000            NaN     NaN\n",
      "*******************\n",
      "   product_id product_name  price\n",
      "1           4    iphone 13  75000\n",
      "*******************\n",
      "Empty DataFrame\n",
      "Columns: [product_id, product_name_x, price_x, product_name_y, price_y]\n",
      "Index: []\n"
     ]
    }
   ],
   "source": [
    "print(df_merge)\n",
    "print('*******************')\n",
    "print(df_insert_final)\n",
    "print('*******************')\n",
    "print(df_update)"
   ]
  },
  {
   "cell_type": "code",
   "execution_count": null,
   "id": "7bdc86c2",
   "metadata": {},
   "outputs": [],
   "source": []
  },
  {
   "cell_type": "code",
   "execution_count": 22,
   "id": "8af9d484",
   "metadata": {},
   "outputs": [],
   "source": [
    "#changing hp laptop price and adding one more item\n",
    "products = {'product_id':[1,6,5],'product_name':['hp laptop','Nokia 1340','Mac Book1'],'price':[30000,25000,90000]}\n",
    "products_db= pd.DataFrame(products)\n",
    "products_db.to_csv('products.txt', index=False)"
   ]
  },
  {
   "cell_type": "code",
   "execution_count": 23,
   "id": "2c11ba1b",
   "metadata": {},
   "outputs": [],
   "source": [
    "def extract():\n",
    "    df_products=pd.read_csv('products.txt')\n",
    "    df_products_db=pd.read_sql_query(text('select * from products'),conn)\n",
    "    return df_products, df_products_db\n",
    "def transform(df_products, df_products_db):\n",
    "    df_merge = pd.merge(df_products,df_products_db, how='left',on='product_id')\n",
    "    #which records are to be inserted\n",
    "    df_insert =df_merge[df_merge['product_name_y'].isna()] \n",
    "    df_insert_final= df_insert.iloc[:, 0:3]\n",
    "    df_insert_final.columns=df_products_db.columns\n",
    "    df_update = df_merge[df_merge['product_name_y'].notna()]\n",
    "    df_update_final = df_update.iloc[:,0:3]\n",
    "    df_update_final.columns=df_products_db.columns\n",
    "    return df_insert_final,df_update_final\n",
    "def load_staging(df_update_final):\n",
    "    df_update_final.to_sql('products_stg',con=conn, index=False,if_exists='replace')\n",
    "    conn.commit()\n",
    "def updates():\n",
    "    query=sal.text('UPDATE products JOIN products_stg ON products.product_id = products_stg.product_id SET products.product_name=products_stg.product_name, products.price = products_stg.price')\n",
    "    p=conn.execute(query)\n",
    "    conn.commit()\n",
    "def inserts(df_insert_final):\n",
    "    df_insert_final.to_sql('products',con=conn, index=False,if_exists='append') #1st we do replace\n",
    "    conn.commit()"
   ]
  },
  {
   "cell_type": "code",
   "execution_count": 24,
   "id": "bc28b814",
   "metadata": {},
   "outputs": [],
   "source": [
    "df_products, df_products_db = extract()\n",
    "df_insert_final,df_update_final= transform(df_products, df_products_db)\n",
    "load_staging(df_update_final)\n",
    "updates()\n",
    "inserts(df_insert_final)"
   ]
  },
  {
   "cell_type": "code",
   "execution_count": 25,
   "id": "1bd4e8d3",
   "metadata": {},
   "outputs": [
    {
     "data": {
      "text/html": [
       "<div>\n",
       "<style scoped>\n",
       "    .dataframe tbody tr th:only-of-type {\n",
       "        vertical-align: middle;\n",
       "    }\n",
       "\n",
       "    .dataframe tbody tr th {\n",
       "        vertical-align: top;\n",
       "    }\n",
       "\n",
       "    .dataframe thead th {\n",
       "        text-align: right;\n",
       "    }\n",
       "</style>\n",
       "<table border=\"1\" class=\"dataframe\">\n",
       "  <thead>\n",
       "    <tr style=\"text-align: right;\">\n",
       "      <th></th>\n",
       "      <th>product_id</th>\n",
       "      <th>product_name</th>\n",
       "      <th>price</th>\n",
       "    </tr>\n",
       "  </thead>\n",
       "  <tbody>\n",
       "    <tr>\n",
       "      <th>0</th>\n",
       "      <td>1</td>\n",
       "      <td>hp laptop</td>\n",
       "      <td>30000</td>\n",
       "    </tr>\n",
       "    <tr>\n",
       "      <th>1</th>\n",
       "      <td>2</td>\n",
       "      <td>iphone 11</td>\n",
       "      <td>70000</td>\n",
       "    </tr>\n",
       "    <tr>\n",
       "      <th>2</th>\n",
       "      <td>3</td>\n",
       "      <td>iphone 12</td>\n",
       "      <td>80000</td>\n",
       "    </tr>\n",
       "    <tr>\n",
       "      <th>3</th>\n",
       "      <td>4</td>\n",
       "      <td>iphone 13</td>\n",
       "      <td>75000</td>\n",
       "    </tr>\n",
       "    <tr>\n",
       "      <th>4</th>\n",
       "      <td>6</td>\n",
       "      <td>Nokia 1340</td>\n",
       "      <td>25000</td>\n",
       "    </tr>\n",
       "    <tr>\n",
       "      <th>5</th>\n",
       "      <td>5</td>\n",
       "      <td>Mac Book1</td>\n",
       "      <td>90000</td>\n",
       "    </tr>\n",
       "  </tbody>\n",
       "</table>\n",
       "</div>"
      ],
      "text/plain": [
       "   product_id product_name  price\n",
       "0           1    hp laptop  30000\n",
       "1           2    iphone 11  70000\n",
       "2           3    iphone 12  80000\n",
       "3           4    iphone 13  75000\n",
       "4           6   Nokia 1340  25000\n",
       "5           5    Mac Book1  90000"
      ]
     },
     "execution_count": 25,
     "metadata": {},
     "output_type": "execute_result"
    }
   ],
   "source": [
    "from sqlalchemy import text\n",
    "\n",
    "df_sql = pd.read_sql_query(text('select * from products'), conn)\n",
    "df_sql.head(10)"
   ]
  },
  {
   "cell_type": "code",
   "execution_count": null,
   "id": "7a9d8ae5",
   "metadata": {},
   "outputs": [],
   "source": []
  },
  {
   "cell_type": "code",
   "execution_count": null,
   "id": "c15fa508",
   "metadata": {},
   "outputs": [],
   "source": []
  },
  {
   "cell_type": "code",
   "execution_count": null,
   "id": "1beeac0d",
   "metadata": {},
   "outputs": [],
   "source": []
  }
 ],
 "metadata": {
  "kernelspec": {
   "display_name": "Python 3 (ipykernel)",
   "language": "python",
   "name": "python3"
  },
  "language_info": {
   "codemirror_mode": {
    "name": "ipython",
    "version": 3
   },
   "file_extension": ".py",
   "mimetype": "text/x-python",
   "name": "python",
   "nbconvert_exporter": "python",
   "pygments_lexer": "ipython3",
   "version": "3.11.1"
  }
 },
 "nbformat": 4,
 "nbformat_minor": 5
}
